{
 "cells": [
  {
   "cell_type": "code",
   "execution_count": 19,
   "id": "150b8c1b-633d-4526-a01c-86cf16f66df8",
   "metadata": {},
   "outputs": [],
   "source": [
    "!pip install --quiet anywidget"
   ]
  },
  {
   "cell_type": "code",
   "execution_count": 15,
   "id": "80163384-1139-4481-93fd-8074482b49c7",
   "metadata": {},
   "outputs": [
    {
     "data": {
      "application/vnd.jupyter.widget-view+json": {
       "model_id": "557f2efe08a24d75bad67832294dac2d",
       "version_major": 2,
       "version_minor": 1
      },
      "text/plain": [
       "CounterWidget(value=10)"
      ]
     },
     "execution_count": 15,
     "metadata": {},
     "output_type": "execute_result"
    }
   ],
   "source": [
    "import anywidget\n",
    "import traitlets\n",
    "\n",
    "class CounterWidget(anywidget.AnyWidget):\n",
    "    _esm = \"\"\"\n",
    "        import p5 from \"https://esm.sh/p5\";\n",
    "        function render({ model, el }) {\n",
    "            let canvas = document.createElement(\"canvas\");\n",
    "            canvas.classList.add(\"p5canvas\");\n",
    "            el.appendChild(canvas);\n",
    "        \n",
    "            let x = 0; let y = 0;\n",
    "            let sketch = new p5((p) => {\n",
    "                p.setup = () => {\n",
    "                    let p5canvas = p.createCanvas(200, 50, canvas);\n",
    "                    x = p.width / 2;\n",
    "                    y = p.height / 2;\n",
    "                    p.background('#ea580c');\n",
    "                }\n",
    "                p.draw = () => {\n",
    "                    p.circle(x, y, model.get(\"value\"));\n",
    "                }\n",
    "                p.mousePressed = () => {\n",
    "                    // only respond to mouse press on the widget canvas\n",
    "                    if (p.mouseX < 0 || p.mouseY < 0 || p.mouseX > p.width || p.mouseY > p.height) return;\n",
    "                    x = p.mouseX;\n",
    "                    y = p.mouseY;\n",
    "                    model.set(\"value\", model.get(\"value\") + 1);\n",
    "                    model.save_changes();\n",
    "                }\n",
    "            });\n",
    "        }\n",
    "        export default { render };\n",
    "    \"\"\"\n",
    "    _css = \"\"\"\n",
    "        .p5canvas { width: 100%; height: 100%; object-fit: contain; z-index: 2; display: block; }\n",
    "    \"\"\"\n",
    "    value = traitlets.Int(0).tag(sync=True)\n",
    "\n",
    "CounterWidget(value=10)\n",
    "\n",
    "\n"
   ]
  }
 ],
 "metadata": {
  "kernelspec": {
   "display_name": "Python 3 (ipykernel)",
   "language": "python",
   "name": "python3"
  },
  "language_info": {
   "codemirror_mode": {
    "name": "ipython",
    "version": 3
   },
   "file_extension": ".py",
   "mimetype": "text/x-python",
   "name": "python",
   "nbconvert_exporter": "python",
   "pygments_lexer": "ipython3",
   "version": "3.12.4"
  }
 },
 "nbformat": 4,
 "nbformat_minor": 5
}
