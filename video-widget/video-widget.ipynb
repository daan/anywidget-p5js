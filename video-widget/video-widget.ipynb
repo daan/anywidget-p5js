{
 "cells": [
  {
   "cell_type": "code",
   "execution_count": null,
   "id": "ffd03790",
   "metadata": {},
   "outputs": [],
   "source": [
    "# use on google colab\n",
    "!pip install --quiet anywidget\n",
    "!wget https://raw.githubusercontent.com/daan/anywidget-p5js/refs/heads/main/video-widget/video.css\n",
    "!wget https://raw.githubusercontent.com/daan/anywidget-p5js/refs/heads/main/video-widget/video.js"
   ]
  },
  {
   "cell_type": "code",
   "execution_count": 2,
   "id": "80163384-1139-4481-93fd-8074482b49c7",
   "metadata": {},
   "outputs": [
    {
     "name": "stdout",
     "output_type": "stream",
     "text": [
      "env: ANYWIDGET_HMR=1\n"
     ]
    }
   ],
   "source": [
    "import anywidget\n",
    "%env ANYWIDGET_HMR=1\n",
    "\n",
    "import pathlib\n",
    "import traitlets\n",
    "import ipywidgets\n",
    "from ipywidgets import FloatSlider, Button, VBox, HBox"
   ]
  },
  {
   "cell_type": "code",
   "execution_count": 7,
   "id": "1377e12c-a859-4ea0-84e2-6e5633d43be9",
   "metadata": {
    "scrolled": true
   },
   "outputs": [
    {
     "data": {
      "application/vnd.jupyter.widget-view+json": {
       "model_id": "5552e1930a5b4c88bb8cd55213d3467e",
       "version_major": 2,
       "version_minor": 0
      },
      "text/plain": [
       "VBox(children=(P5VideoWidget(), HBox(children=(Button(description='Play', style=ButtonStyle()), FloatSlider(va…"
      ]
     },
     "execution_count": 7,
     "metadata": {},
     "output_type": "execute_result"
    }
   ],
   "source": [
    "class P5VideoWidget(anywidget.AnyWidget):\n",
    "    _esm = pathlib.Path('.') / \"video.js\"\n",
    "    _css = pathlib.Path('.') / \"video.css\"\n",
    "    time = traitlets.Float(0).tag(sync=True)\n",
    "    play = traitlets.Bool(False).tag(sync=True)\n",
    "    duration = traitlets.Float(0).tag(sync=True)\n",
    "    src = traitlets.Unicode(\"http://commondatastorage.googleapis.com/gtv-videos-bucket/sample/BigBuckBunny.mp4\").tag(sync=True)\n",
    "    \n",
    "caption = ipywidgets.Label(value=\"label\")\n",
    "p5vw = P5VideoWidget()\n",
    "slider = FloatSlider(description='time', value=0.0, min=0.0, max=999, step=0.01, continuous_update=True)\n",
    "button = Button(description=\"Play\");\n",
    "ipywidgets.jslink((p5vw, \"time\"), (slider, \"value\"))\n",
    "\n",
    "\n",
    "def duration_change(change):\n",
    "    slider.max = change.new\n",
    "    caption.value = str(change.new)\n",
    "p5vw.observe(duration_change, names=\"duration\")\n",
    "\n",
    "\n",
    "\n",
    "def button_clicked(b):\n",
    "    p5vw.play = not p5vw.play\n",
    "    if p5vw.play:\n",
    "        button.description = \"Stop\"\n",
    "    else:\n",
    "        button.description = \"Play\"\n",
    "button.on_click(button_clicked)\n",
    "\n",
    "VBox([p5vw,HBox([button, slider]), caption])"
   ]
  }
 ],
 "metadata": {
  "kernelspec": {
   "display_name": "Python 3 (ipykernel)",
   "language": "python",
   "name": "python3"
  },
  "language_info": {
   "codemirror_mode": {
    "name": "ipython",
    "version": 3
   },
   "file_extension": ".py",
   "mimetype": "text/x-python",
   "name": "python",
   "nbconvert_exporter": "python",
   "pygments_lexer": "ipython3",
   "version": "3.12.4"
  }
 },
 "nbformat": 4,
 "nbformat_minor": 5
}
