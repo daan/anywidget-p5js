{
 "cells": [
  {
   "cell_type": "code",
   "execution_count": null,
   "id": "ffd03790",
   "metadata": {},
   "outputs": [],
   "source": [
    "!pip install --quiet anywidget"
   ]
  },
  {
   "cell_type": "code",
   "execution_count": 6,
   "id": "80163384-1139-4481-93fd-8074482b49c7",
   "metadata": {},
   "outputs": [
    {
     "name": "stdout",
     "output_type": "stream",
     "text": [
      "env: ANYWIDGET_HMR=1\n"
     ]
    }
   ],
   "source": [
    "import anywidget\n",
    "%env ANYWIDGET_HMR=1\n",
    "\n",
    "import pathlib\n",
    "import traitlets\n",
    "import ipywidgets\n",
    "from ipywidgets import FloatSlider"
   ]
  },
  {
   "cell_type": "code",
   "execution_count": 34,
   "id": "1377e12c-a859-4ea0-84e2-6e5633d43be9",
   "metadata": {
    "scrolled": true
   },
   "outputs": [
    {
     "data": {
      "application/vnd.jupyter.widget-view+json": {
       "model_id": "0aa2417ac2c042f3aed647dcb91c5743",
       "version_major": 2,
       "version_minor": 1
      },
      "text/plain": [
       "P5Widget()"
      ]
     },
     "metadata": {},
     "output_type": "display_data"
    },
    {
     "data": {
      "application/vnd.jupyter.widget-view+json": {
       "model_id": "210be08101da47a8b16d73f98bdbb2fc",
       "version_major": 2,
       "version_minor": 0
      },
      "text/plain": [
       "FloatSlider(value=0.2, description='speed', max=0.5, step=0.001)"
      ]
     },
     "metadata": {},
     "output_type": "display_data"
    }
   ],
   "source": [
    "class P5Widget(anywidget.AnyWidget):\n",
    "    _esm = pathlib.Path('.') / \"p5w.js\"\n",
    "    _css = pathlib.Path('.') / \"p5w.css\"\n",
    "    speed = traitlets.Float(0).tag(sync=True)\n",
    "\n",
    "p5w = P5Widget()\n",
    "slider = FloatSlider(description='speed', value=0.2, min=0.0, max=0.5, step=0.001, continuous_update=True)\n",
    "ipywidgets.jslink((p5w, \"speed\"), (slider, \"value\"))\n",
    "\n",
    "display(p5w,slider)"
   ]
  }
 ],
 "metadata": {
  "kernelspec": {
   "display_name": "Python 3 (ipykernel)",
   "language": "python",
   "name": "python3"
  },
  "language_info": {
   "codemirror_mode": {
    "name": "ipython",
    "version": 3
   },
   "file_extension": ".py",
   "mimetype": "text/x-python",
   "name": "python",
   "nbconvert_exporter": "python",
   "pygments_lexer": "ipython3",
   "version": "3.12.4"
  }
 },
 "nbformat": 4,
 "nbformat_minor": 5
}
